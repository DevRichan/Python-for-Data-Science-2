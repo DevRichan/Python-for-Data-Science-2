{
  "nbformat": 4,
  "nbformat_minor": 0,
  "metadata": {
    "colab": {
      "name": "Tuple Manipulation.ipynb",
      "provenance": [],
      "authorship_tag": "ABX9TyPl+9l9NIpR2dY3W/b2pMpV",
      "include_colab_link": true
    },
    "kernelspec": {
      "name": "python3",
      "display_name": "Python 3"
    }
  },
  "cells": [
    {
      "cell_type": "markdown",
      "metadata": {
        "id": "view-in-github",
        "colab_type": "text"
      },
      "source": [
        "<a href=\"https://colab.research.google.com/github/DevRichan/Python-for-Data-Science-2/blob/master/Tuple_Manipulation.ipynb\" target=\"_parent\"><img src=\"https://colab.research.google.com/assets/colab-badge.svg\" alt=\"Open In Colab\"/></a>"
      ]
    },
    {
      "cell_type": "code",
      "metadata": {
        "id": "6ycksi7qTHTG",
        "colab_type": "code",
        "colab": {
          "base_uri": "https://localhost:8080/",
          "height": 52
        },
        "outputId": "dec1ed55-23bf-4c2c-9ca4-165c56f7f2cf"
      },
      "source": [
        "#menghitung jumlah tertentu (count)\n",
        "\n",
        "tuple_score = ('Budi', 'Sud', 'Budi', 'Budi', 'Budi', 'Sud', 'Sud')\n",
        "Budi = tuple_score.count('Budi')\n",
        "print(Budi)\n",
        "\n",
        "#mengembalikan indeks pertama dari sebuah tuple\n",
        "tuple_score = ('Budi','Sud','Budi','Budi','Budi','Sud','Sud')\n",
        "scr = tuple_score.index('Sud') + 1\n",
        "print(scr)\n"
      ],
      "execution_count": 3,
      "outputs": [
        {
          "output_type": "stream",
          "text": [
            "4\n",
            "2\n"
          ],
          "name": "stdout"
        }
      ]
    }
  ]
}