{
  "nbformat": 4,
  "nbformat_minor": 0,
  "metadata": {
    "colab": {
      "name": "Acces_and_join_list_and_tuple.ipynb",
      "provenance": [],
      "authorship_tag": "ABX9TyMHgm0N5sBo5dg0YPFecQRV",
      "include_colab_link": true
    },
    "kernelspec": {
      "name": "python3",
      "display_name": "Python 3"
    }
  },
  "cells": [
    {
      "cell_type": "markdown",
      "metadata": {
        "id": "view-in-github",
        "colab_type": "text"
      },
      "source": [
        "<a href=\"https://colab.research.google.com/github/DevRichan/Python-for-Data-Science-2/blob/master/Acces_and_join_list_and_tuple.ipynb\" target=\"_parent\"><img src=\"https://colab.research.google.com/assets/colab-badge.svg\" alt=\"Open In Colab\"/></a>"
      ]
    },
    {
      "cell_type": "markdown",
      "metadata": {
        "id": "Q9c729q5nCXk",
        "colab_type": "text"
      },
      "source": [
        "**1. Mengakses Tuple dan List**"
      ]
    },
    {
      "cell_type": "code",
      "metadata": {
        "id": "gOq9Hgd7krXM",
        "colab_type": "code",
        "colab": {
          "base_uri": "https://localhost:8080/",
          "height": 87
        },
        "outputId": "c8a3f661-8a2c-4c41-f39c-c1067eb1d15a"
      },
      "source": [
        "bulan_pembelian = ('Januari', 'Februari', 'Maret', 'April', 'Mei', 'Juni', 'Juli', 'Agustus', 'September', 'Oktober', 'November', 'Desember') \n",
        "pertengahan_tahun = bulan_pembelian[4:8]\n",
        "awal_tahun = bulan_pembelian[:5]\n",
        "akhir_tahun = bulan_pembelian[8:]\n",
        "coba = bulan_pembelian[-4:-1]\n",
        "\n",
        "print(awal_tahun)\n",
        "print(pertengahan_tahun)\n",
        "print(akhir_tahun)\n",
        "print(coba)"
      ],
      "execution_count": 3,
      "outputs": [
        {
          "output_type": "stream",
          "text": [
            "('Januari', 'Februari', 'Maret', 'April', 'Mei')\n",
            "('Mei', 'Juni', 'Juli', 'Agustus')\n",
            "('September', 'Oktober', 'November', 'Desember')\n",
            "('September', 'Oktober', 'November')\n"
          ],
          "name": "stdout"
        }
      ]
    },
    {
      "cell_type": "markdown",
      "metadata": {
        "id": "pK5lKhdNoD7g",
        "colab_type": "text"
      },
      "source": [
        "**2. Penggabungan List dan Tuple**"
      ]
    },
    {
      "cell_type": "code",
      "metadata": {
        "id": "rJnNsrINoVqp",
        "colab_type": "code",
        "colab": {
          "base_uri": "https://localhost:8080/",
          "height": 34
        },
        "outputId": "cad76249-baa5-4241-c9c8-97ba6013e4df"
      },
      "source": [
        "list_makanan = ['Gado-gado', 'Ayam Goreng', 'Rendang']\n",
        "list_minuman = ['Es Teh', 'Es Jeruk', 'Es Campur']\n",
        "join = list_makanan + list_minuman\n",
        "\n",
        "print(join)"
      ],
      "execution_count": 5,
      "outputs": [
        {
          "output_type": "stream",
          "text": [
            "['Gado-gado', 'Ayam Goreng', 'Rendang', 'Es Teh', 'Es Jeruk', 'Es Campur']\n"
          ],
          "name": "stdout"
        }
      ]
    }
  ]
}