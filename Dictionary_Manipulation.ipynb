{
  "nbformat": 4,
  "nbformat_minor": 0,
  "metadata": {
    "colab": {
      "name": "Dictionary Manipulation.ipynb",
      "provenance": [],
      "authorship_tag": "ABX9TyNqXh0QFj1vfHVLO/l6iupK",
      "include_colab_link": true
    },
    "kernelspec": {
      "name": "python3",
      "display_name": "Python 3"
    }
  },
  "cells": [
    {
      "cell_type": "markdown",
      "metadata": {
        "id": "view-in-github",
        "colab_type": "text"
      },
      "source": [
        "<a href=\"https://colab.research.google.com/github/DevRichan/Python-for-Data-Science-2/blob/master/Dictionary_Manipulation.ipynb\" target=\"_parent\"><img src=\"https://colab.research.google.com/assets/colab-badge.svg\" alt=\"Open In Colab\"/></a>"
      ]
    },
    {
      "cell_type": "code",
      "metadata": {
        "id": "r-XAOc7vcvlx",
        "colab_type": "code",
        "colab": {
          "base_uri": "https://localhost:8080/",
          "height": 52
        },
        "outputId": "5801ff76-ee68-426d-fa0a-62d1fc0da7cc"
      },
      "source": [
        "info_karyawan = {\n",
        "    \"Nama\" : \"Ricki Chandra Hidayatullah\",\n",
        "    \"Usia\" : 22,\n",
        "    \"Keahlian\" : [\"Data Analyst\", \"Back-End Web Development\", \"Database\"]\n",
        "}\n",
        "\n",
        "# copy(same function with tuple and list)\n",
        "\n",
        "# menampilkan isi data, (values)\n",
        "values = info_karyawan.values()\n",
        "print(values)\n",
        "\n",
        "# menambahkan new key dan value (update)\n",
        "info_karyawan.update({\"Status\":\"Lajang\"})\n",
        "print(info_karyawan)"
      ],
      "execution_count": 3,
      "outputs": [
        {
          "output_type": "stream",
          "text": [
            "dict_values(['Ricki Chandra Hidayatullah', 22, ['Data Analyst', 'Back-End Web Development', 'Database']])\n",
            "{'Nama': 'Ricki Chandra Hidayatullah', 'Usia': 22, 'Keahlian': ['Data Analyst', 'Back-End Web Development', 'Database'], 'Status': 'Lajang'}\n"
          ],
          "name": "stdout"
        }
      ]
    },
    {
      "cell_type": "code",
      "metadata": {
        "id": "kzEyflOufz6s",
        "colab_type": "code",
        "colab": {}
      },
      "source": [
        ""
      ],
      "execution_count": null,
      "outputs": []
    }
  ]
}