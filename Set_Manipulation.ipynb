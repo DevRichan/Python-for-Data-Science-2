{
  "nbformat": 4,
  "nbformat_minor": 0,
  "metadata": {
    "colab": {
      "name": "Set Manipulation.ipynb",
      "provenance": [],
      "authorship_tag": "ABX9TyOh+lfnH9IZi1jgigHBI+BF",
      "include_colab_link": true
    },
    "kernelspec": {
      "name": "python3",
      "display_name": "Python 3"
    }
  },
  "cells": [
    {
      "cell_type": "markdown",
      "metadata": {
        "id": "view-in-github",
        "colab_type": "text"
      },
      "source": [
        "<a href=\"https://colab.research.google.com/github/DevRichan/Python-for-Data-Science-2/blob/master/Set_Manipulation.ipynb\" target=\"_parent\"><img src=\"https://colab.research.google.com/assets/colab-badge.svg\" alt=\"Open In Colab\"/></a>"
      ]
    },
    {
      "cell_type": "code",
      "metadata": {
        "id": "zmPVTneuUy_R",
        "colab_type": "code",
        "colab": {
          "base_uri": "https://localhost:8080/",
          "height": 265
        },
        "outputId": "887342cd-3688-4599-d4df-b1cc56155fcb"
      },
      "source": [
        "# Fitur .add()\n",
        "# set tidak mengizinkan duplikasi data pada sebuah elemen\n",
        "print(\">>> Fitur .add()\")\n",
        "set_buah = {'Jeruk','Apel','Anggur'}\n",
        "set_buah.add('Melon')\n",
        "print(set_buah)\n",
        "\n",
        "# Fitur .clear()\n",
        "# menghapus semua data\n",
        "print(\">>> Fitur .clear()\")\n",
        "set_buah = {'Jeruk','Apel','Anggur'}\n",
        "set_buah.clear()\n",
        "print(set_buah)\n",
        "\n",
        "\n",
        "# Fitur .copy()\n",
        "print(\">>> Fitur .copy()\")\n",
        "set_buah1 = {'Jeruk','Apel','Anggur'}\n",
        "set_buah2 = set_buah1\n",
        "set_buah3 = set_buah1.copy()\n",
        "set_buah2.add('Melon')\n",
        "set_buah3.add('Kiwi')\n",
        "print(set_buah1)\n",
        "print(set_buah2)\n",
        "\n",
        "\n",
        "# Fitur .update()\n",
        "# Menambahkan data parcel2 ke parcel 1 \n",
        "print(\">>> Fitur .update()\")\n",
        "parcel1 = {'Anggur','Apel','Jeruk'}\n",
        "parcel2 = {'Apel','Kiwi','Melon'}\n",
        "parcel1.update(parcel2)\n",
        "print(parcel1)\n",
        "\n",
        "\n",
        "# Fitur .pop()\n",
        "# Menghilangkan elemen secara acak\n",
        "print(\">>> Fitur .pop()\")\n",
        "parcel = {'Anggur','Apel','Jeruk'}\n",
        "buah = parcel.pop()\n",
        "print(buah)\n",
        "print(parcel)\n",
        "\n",
        "\n",
        "# Fitur .remove()\n",
        "# Menghilangkan elemen dengan nilai tertentu\n",
        "print(\">>> Fitur .remove()\")\n",
        "parcel = {'Anggur','Apel','Jeruk'}\n",
        "parcel.remove('Apel')\n",
        "print(parcel)"
      ],
      "execution_count": 1,
      "outputs": [
        {
          "output_type": "stream",
          "text": [
            ">>> Fitur .add()\n",
            "{'Melon', 'Jeruk', 'Apel', 'Anggur'}\n",
            ">>> Fitur .clear()\n",
            "set()\n",
            ">>> Fitur .copy()\n",
            "{'Melon', 'Jeruk', 'Apel', 'Anggur'}\n",
            "{'Melon', 'Jeruk', 'Apel', 'Anggur'}\n",
            ">>> Fitur .update()\n",
            "{'Melon', 'Jeruk', 'Apel', 'Anggur', 'Kiwi'}\n",
            ">>> Fitur .pop()\n",
            "Jeruk\n",
            "{'Apel', 'Anggur'}\n",
            ">>> Fitur .remove()\n",
            "{'Jeruk', 'Anggur'}\n"
          ],
          "name": "stdout"
        }
      ]
    },
    {
      "cell_type": "code",
      "metadata": {
        "id": "NXmAJmrCYXUK",
        "colab_type": "code",
        "colab": {}
      },
      "source": [
        "# Fitur .union()\n",
        "print(\">>> Fitur .union()\")\n",
        "parcel1 = {'Anggur','Apel','Jeruk'}\n",
        "parcel2 = {'Apel','Kiwi','Melon'}\n",
        "parcel3 = parcel1.union(parcel2)\n",
        "print(parcel1)\n",
        "print(parcel3)\n",
        "# Fitur .isdisjoint()\n",
        "print(\">>> Fitur .isdisjoint()\")\n",
        "parcel1 = {'Anggur','Apel','Jeruk'}\n",
        "parcel2 = {'Kiwi','Melon','Pisang'}\n",
        "parcel3 = {'Apel','Srikaya','Semangka'}\n",
        "parcel1_parcel2_disjoint = parcel1.isdisjoint(parcel2)\n",
        "print(parcel1_parcel2_disjoint)\n",
        "parcel1_parcel3_disjoint = parcel1.isdisjoint(parcel3)\n",
        "print(parcel1_parcel3_disjoint)\n",
        "# Fitur .issubset()\n",
        "print(\">>> Fitur .issubset()\")\n",
        "parcel_A = {'Anggur', 'Apel'}\n",
        "parcel_B = {'Durian','Semangka','Apel'}\n",
        "parcel_C = {'Anggur', 'Kiwi', 'Apel', 'Jeruk', 'Melon'}\n",
        "parcel_A_dalam_C = parcel_A.issubset(parcel_C)\n",
        "parcel_B_dalam_C = parcel_B.issubset(parcel_C)\n",
        "print(parcel_A_dalam_C)\n",
        "print(parcel_B_dalam_C)\n",
        "# Fitur .issuperset()\n",
        "print(\">>> Fitur .issuperset()\")\n",
        "parcel_C_mengandung_A = parcel_C.issuperset(parcel_A)\n",
        "parcel_C_mengandung_B = parcel_C.issuperset(parcel_B)\n",
        "print(parcel_C_mengandung_A)\n",
        "print(parcel_C_mengandung_B)\n",
        "# Fitur .intersection()\n",
        "print(\">>> Fitur .intersection()\")\n",
        "parcel_A = {'Anggur', 'Kiwi', 'Apel', 'Jeruk', 'Melon'}\n",
        "parcel_B = {'Apel', 'Jeruk', 'Semangka', 'Durian', 'Tomat'}\n",
        "parcel_C = parcel_A.intersection(parcel_B)\n",
        "print(parcel_C)\n",
        "# Fitur .difference()\n",
        "print(\">>> Fitur .difference()\")\n",
        "parcel_C = parcel_A.difference(parcel_B)\n",
        "print(parcel_C)\n",
        "# Fitur .symmetric_difference()\n",
        "print(\">>> Fitur .symmetric_difference()\")\n",
        "parcel_A = {'Anggur', 'Apel', 'Jeruk', 'Melon'}\n",
        "parcel_B = {'Apel','Jeruk','Semangka','Leci'}\n",
        "parcel_C = parcel_A.symmetric_difference(parcel_B)\n",
        "print(parcel_C)"
      ],
      "execution_count": null,
      "outputs": []
    }
  ]
}