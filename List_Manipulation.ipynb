{
  "nbformat": 4,
  "nbformat_minor": 0,
  "metadata": {
    "colab": {
      "name": "List_Manipulation.ipynb",
      "provenance": [],
      "collapsed_sections": [],
      "authorship_tag": "ABX9TyMCJR0P73PJUqZMhAPaubau",
      "include_colab_link": true
    },
    "kernelspec": {
      "name": "python3",
      "display_name": "Python 3"
    }
  },
  "cells": [
    {
      "cell_type": "markdown",
      "metadata": {
        "id": "view-in-github",
        "colab_type": "text"
      },
      "source": [
        "<a href=\"https://colab.research.google.com/github/DevRichan/Python-for-Data-Science-2/blob/master/List_Manipulation.ipynb\" target=\"_parent\"><img src=\"https://colab.research.google.com/assets/colab-badge.svg\" alt=\"Open In Colab\"/></a>"
      ]
    },
    {
      "cell_type": "code",
      "metadata": {
        "id": "4XlfF7EXpDlb",
        "colab_type": "code",
        "colab": {
          "base_uri": "https://localhost:8080/",
          "height": 52
        },
        "outputId": "058399fc-3ee1-4f61-ad45-ccf1fff3b13b"
      },
      "source": [
        "#menambahkan data di list terakhir (append)\n",
        "list_makanan = ['Gado-gado', 'Ayam Goreng', 'Rendang']\n",
        "list_makanan.append('Ayam Bakar')\n",
        "print(list_makanan)\n",
        "\n",
        "\n",
        "#menghapus semua data (clear)\n",
        "list_makanan.clear()\n",
        "print(list_makanan)"
      ],
      "execution_count": 2,
      "outputs": [
        {
          "output_type": "stream",
          "text": [
            "['Gado-gado', 'Ayam Goreng', 'Rendang', 'Ayam Bakar']\n",
            "[]\n"
          ],
          "name": "stdout"
        }
      ]
    },
    {
      "cell_type": "code",
      "metadata": {
        "id": "mXlYCk0w5gqr",
        "colab_type": "code",
        "colab": {
          "base_uri": "https://localhost:8080/",
          "height": 123
        },
        "outputId": "63c0d440-2887-4671-f38e-e6194656b8ca"
      },
      "source": [
        "#Menyalin data (copy)\n",
        "list_makanan1 = ['Gado-gado', 'Ayam Goreng', 'Rendang']\n",
        "list_makanan2 = list_makanan1.copy()\n",
        "list_makanan3 = list_makanan1\n",
        "list_makanan2.append('Ketoprak')\n",
        "list_makanan3.append('Buryam')\n",
        "# menggunakan operator =, penambahan pada list makanan 3 akan mempengaruhi list makanan 1\n",
        "print(list_makanan1)\n",
        "print(list_makanan2)\n",
        "\n",
        "\n",
        "\n",
        "#Menghitung data yang sama(count)\n",
        "list_score = ['Budi', 'Sud', 'Budi', 'Budi', 'Budi', 'Sud', 'Sud']\n",
        "Budi = list_score.count('Budi')\n",
        "Sud = list_score.count('Sud')\n",
        "print(Budi)\n",
        "print(Sud)\n",
        "\n",
        "\n",
        "#menggabungkan dua list seperti menggunakan + (extend)\n",
        "list_menu = ['Gado-gado', 'Ayam Goreng', 'Rendang']\n",
        "list_minuman = ['Es Teh', 'Es Jeruk', 'Es Campur']\n",
        "print(list_menu + list_minuman)\n",
        "join = list_menu.extend(list_minuman)\n",
        "print(join)"
      ],
      "execution_count": 13,
      "outputs": [
        {
          "output_type": "stream",
          "text": [
            "['Gado-gado', 'Ayam Goreng', 'Rendang', 'Buryam']\n",
            "['Gado-gado', 'Ayam Goreng', 'Rendang', 'Ketoprak']\n",
            "4\n",
            "3\n",
            "['Gado-gado', 'Ayam Goreng', 'Rendang', 'Es Teh', 'Es Jeruk', 'Es Campur']\n",
            "None\n"
          ],
          "name": "stdout"
        }
      ]
    },
    {
      "cell_type": "code",
      "metadata": {
        "id": "KqbcGrE1QPMm",
        "colab_type": "code",
        "colab": {
          "base_uri": "https://localhost:8080/",
          "height": 141
        },
        "outputId": "fdfdb93e-51c6-40ad-b1da-5e779575e67c"
      },
      "source": [
        "#mengembalikan index pertama dari sebuah list (index)\n",
        "\n",
        "list_score = ['Budi','Sud','Budi','Budi','Budi','Sud','Sud']\n",
        "score_pertama_sud = list_score.index('Sud') + 1\n",
        "print(score_pertama_sud)\n",
        "\n",
        "#menyisipkan elemen sesuai dengan index (insert)\n",
        "list_score = ['Budi','Sud','Budi','Budi','Sud']\n",
        "list_score.insert(3, 'Ricki')\n",
        "print(list_score)\n",
        "\n",
        "#menghilangkan elemen pada posisi menurut index (pop)\n",
        "list_menu = ['Gado-gado', 'Ayam Goreng', 'Rendang']\n",
        "list_menu.pop(1)\n",
        "print(list_menu)\n",
        "\n",
        "#menghilangkan elemen sesuai dengan yang dcari (remove)\n",
        "list_menu2 = ['Gado-gado', 'Ayam Goreng', 'Rendang', 'Ketoprak']\n",
        "list_menu2.remove('Rendang')\n",
        "print(list_menu2)\n",
        "\n",
        "#membalikan urutan sebuah elemen pada list (reverse)\n",
        "list_menu3 = ['Gado-gado', 'Ayam Goreng', 'Rendang', 'Ketoprak']\n",
        "list_menu3.reverse()\n",
        "print(list_menu3)\n",
        "\n",
        "\n",
        "#mengurutkan secara ascending \n",
        "list_menu4 = ['Gado-gado', 'Ayam Goreng', 'Rendang', 'Ketoprak']\n",
        "list_menu4.sort()\n",
        "print(list_menu4)\n",
        "\n",
        "#mengurutkan secara descending \n",
        "list_menu4 = ['Gado-gado', 'Ayam Goreng', 'Rendang', 'Ketoprak']\n",
        "list_menu4.sort(reverse=True)\n",
        "print(list_menu4)"
      ],
      "execution_count": 21,
      "outputs": [
        {
          "output_type": "stream",
          "text": [
            "2\n",
            "['Budi', 'Sud', 'Budi', 'Ricki', 'Budi', 'Sud']\n",
            "['Gado-gado', 'Rendang']\n",
            "['Gado-gado', 'Ayam Goreng', 'Ketoprak']\n",
            "['Ketoprak', 'Rendang', 'Ayam Goreng', 'Gado-gado']\n",
            "['Ayam Goreng', 'Gado-gado', 'Ketoprak', 'Rendang']\n",
            "['Rendang', 'Ketoprak', 'Gado-gado', 'Ayam Goreng']\n"
          ],
          "name": "stdout"
        }
      ]
    },
    {
      "cell_type": "markdown",
      "metadata": {
        "id": "wQhkJBTKpQLT",
        "colab_type": "text"
      },
      "source": [
        ""
      ]
    }
  ]
}