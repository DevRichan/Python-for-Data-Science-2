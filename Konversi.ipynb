{
  "nbformat": 4,
  "nbformat_minor": 0,
  "metadata": {
    "colab": {
      "name": "Konversi.ipynb",
      "provenance": [],
      "authorship_tag": "ABX9TyMhGW58gvg6q2flvltKaeIl",
      "include_colab_link": true
    },
    "kernelspec": {
      "name": "python3",
      "display_name": "Python 3"
    }
  },
  "cells": [
    {
      "cell_type": "markdown",
      "metadata": {
        "id": "view-in-github",
        "colab_type": "text"
      },
      "source": [
        "<a href=\"https://colab.research.google.com/github/DevRichan/Python-for-Data-Science-2/blob/master/Konversi.ipynb\" target=\"_parent\"><img src=\"https://colab.research.google.com/assets/colab-badge.svg\" alt=\"Open In Colab\"/></a>"
      ]
    },
    {
      "cell_type": "code",
      "metadata": {
        "id": "TjYybCRRf-Yj",
        "colab_type": "code",
        "colab": {
          "base_uri": "https://localhost:8080/",
          "height": 52
        },
        "outputId": "8f57ba1c-0e16-4833-d7c6-403f1f294e31"
      },
      "source": [
        "#konversi set ke list\n",
        "## list set, tuple\n",
        "\n",
        "mySet = {1,2,3,4,5}\n",
        "keList = list(mySet)\n",
        "print(keList)\n",
        "keTuple = tuple(keList)\n",
        "print(keTuple)"
      ],
      "execution_count": 2,
      "outputs": [
        {
          "output_type": "stream",
          "text": [
            "[1, 2, 3, 4, 5]\n",
            "(1, 2, 3, 4, 5)\n"
          ],
          "name": "stdout"
        }
      ]
    }
  ]
}